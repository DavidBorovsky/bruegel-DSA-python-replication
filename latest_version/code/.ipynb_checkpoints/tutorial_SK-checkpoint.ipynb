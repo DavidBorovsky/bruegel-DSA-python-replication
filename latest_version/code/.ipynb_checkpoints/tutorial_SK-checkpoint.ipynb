{
 "cells": [
  {
   "cell_type": "markdown",
   "metadata": {},
   "source": [
    "# How to replicate the European Commission DSA\n",
    "\n",
    "This notebook features an tutorial for the stochastic DSA model replication introduced in \"A Quantitative Evaluation of the European Commission´s Fiscal Governance Proposal\" by Zsolt Darvas, Lennard Welslau, and Jeromin Zettelmeyer (2023). For details on the methodology see the methodology section below and Annex A3 of the [European Commission's Debt Sustainability Monitor 2023](https://economy-finance.ec.europa.eu/publications/debt-sustainability-monitor-2023_en).\n",
    "\n",
    "For comments and suggestions please contact lennard.welslau[at]gmail[dot]com.\\\n",
    "Last update: 01 June 2024"
   ]
  },
  {
   "cell_type": "markdown",
   "metadata": {},
   "source": [
    "## Methodology"
   ]
  },
  {
   "cell_type": "code",
   "execution_count": null,
   "metadata": {},
   "outputs": [],
   "source": [
    "### Deterministic Debt Projections\n",
    "\n",
    "The starting point for the DSA methodology applied in this paper is the European Commission’s Debt Sustainability Monitor (DSM) 2023 (European Commission, 2024). Annex A3 of the DSM describes debt dynamics and the projection of implicit interest rate on government debt. The debt ratio in a given year, $d_t$, is calculated as:\n",
    "\n",
    "$$\n",
    "d_t = \\alpha^n \\cdot d_{t-1} \\cdot \\frac{(1+\\text{iir}_t)}{(1+g_t)} + \\alpha^f \\cdot d_{t-1} \\cdot \\frac{(1+\\text{iir}_t)}{(1+g_t)} \\cdot \\frac{e_t}{e_{t-1}} - pb_t + f_t, \n",
    "$$\n",
    "\n",
    "where:\n",
    "- $\\alpha^n$ represents the share of total government debt denominated in domestic currency,\n",
    "- $\\alpha^f$ represents the share of total government debt denominated in other currencies,\n",
    "- $\\text{iir}_t$ represents the implicit interest rate on government debt (total interest payment during a year divided by the stock of debt at the end of the previous year),\n",
    "- $g_t$ represents the nominal growth rate of GDP (in national currency),\n",
    "- $e_t$ represents the nominal exchange rate (expressed as national currency per foreign currency),\n",
    "- $pb_t$ represents the primary balance ratio,\n",
    "- $f_t$ represents stock-flow adjustments over GDP.\n",
    "\n",
    "#### Adverse Deterministic Stress Tests\n",
    "\n",
    "In addition to the baseline deterministic scenario, three alternative deterministic scenarios, or stress tests, are also calculated by the Commission:\n",
    "\n",
    "- **‘Lower SPB’ scenario**: the SPB is assumed to be reduced by 0.5 pp. of GDP in total, with a reduction of 0.25 pp. each year over the first two years, and to remain at that level afterwards (apart from changes in the cost of ageing – see below).\n",
    "- **‘Adverse r-g’ scenario**: the interest/growth-rate differential is assumed to be permanently increased by 1 percentage point.\n",
    "- **‘Financial stress’ scenario**: market interest rates are assumed to temporarily increase for one year by 1 pp., plus a risk premium for high-debt countries.\n",
    "\n",
    "These adverse scenarios are assumed for ten years after the end of the adjustment period. The DSA criterion requires the public debt to GDP ratio to decline under these adverse scenarios.\n",
    "\n",
    "#### Data Sources\n",
    "\n",
    "- Shares of euro-denominated debt are calculated based on ECB data.\n",
    "- Exchange rates are taken from Eurostat. Both variables are assumed to remain constant over the projection horizon.\n",
    "- Stock-flow adjustments are taken from the AMECO database and based on projections by the European Commission’s DG ECFIN, available up to 2025. From 2026, stock-flow adjustments are assumed to be zero for all but three EU countries (Finland, Luxembourg, and Greece, see [DSM 2023 Section II.2](https://economy-finance.ec.europa.eu/publications/debt-sustainability-monitor-2023_en) for details).\n",
    "- Nominal GDP growth, the primary balance, and the implicit interest rate on government debt are endogenous model variables. They build on medium-term real growth, output gap, and GDP-deflator projections by the European Commission’s Output Gap Working Group, long-term growth and ageing-cost projections based on the European Commission’s 2024 Ageing report, long-term market expectations for inflation from Bloomberg, structural primary balance projections from the AMECO database, fiscal multiplier data based on Carnot and de Castro (2015), and budget balance semi-elasticities based on Mourre et al. (2019).\n",
    "\n",
    "The projection of the implicit interest rate on government debt further relies on ECB data on government debt stocks, shares of short- and long-term debt issuance, and average annual debt redemption, as well as market expectations for interest rates from Bloomberg. All data sources are described in detail in the [SOURCES.xlsx](..\\data\\SOURCES.xlsx) file found in the data folder of the accompanying GitHub repository.\n",
    "\n",
    "#### Projecting Nominal Growth\n",
    "\n",
    "The effect of fiscal stimulus and the cyclical dependence of the budget balance makes growth and primary balance projections mutually dependent. These dependencies affect the variables from the beginning of the adjustment period in 2025. Prior to the adjustment period, i.e. up to 2024, the model relies directly on projections for the primary balance and nominal growth taken from the AMECO database. From 2025, real growth is affected by annual adjustments of the structural primary balance. Specifically, in a given year, the effect of the fiscal multiplier effect is proportional to annual adjustments in the structural primary balance relative to its baseline trajectory:\n",
    "\n",
    "$$ \n",
    "m_t = 0.75 \\times (\\Delta \\text{spb}_t - \\Delta \\text{spb}_t^{BL}) \n",
    "$$\n",
    "\n",
    "Here, 0.75 is the fiscal multiplier of Carnot and de Castro (2015) and $\\Delta \\text{spb}_t^{BL}$ denotes the annual change in baseline structural primary balance, which is based on the DG ECFIN projections up to 2024 and held constant thereafter. The multiplier $m_t$ affects real growth via its persistent effect on the output gap, narrowing the output gap by $m_t$ in the year of the adjustment $t$, and reducing its impact by one-third of its initial effect in the two consecutive periods. Thus, the total impact on the output gap in a particular year is the sum of the impact in that year plus 2/3 of the impact from the previous year plus 1/3 of the impact from two years before.\n",
    "\n",
    "For euro area countries, Bulgaria, Czechia, Denmark, and Sweden, inflation numbers used to compute nominal growth rates are based on the European Commission’s forecast up to 2025 (GDP deflator), which are linearly interpolated with market expectations for 2033 implied by euro area inflation swaps (HICP), before converging to the 2 percent HICP inflation targets of these countries by 2053, in line with the Commission’s methodology. For Hungary, Poland, and Romania, where the central banks have higher than 2 percent inflation target, the Commission’s methodology assumes that half of the spread vis-à-vis euro area inflation expected in 2025 remains by 2033, which in turn gradually converges to the national inflation targets by 2053.\n",
    "\n",
    "#### Projecting the Primary Balance\n",
    "\n",
    "The primary balance ratio is the sum of the structural primary balance ratio, a cyclical component, a property income component, and an ageing cost component. Importantly, the latter component, ageing costs net of pension tax revenues, is not separated out during the adjustment period. After the end of the adjustment period, it is assumed that the structural primary balance without the change in ageing costs remains the same, thus, the change in ageing costs changes the structural primary balance after the end of the adjustment period. Ageing costs and pension tax revenues are based on the European Commission’s 2024 Ageing report. The cyclical component is defined as the product of country-specific budget balance elasticities and the output gap.\n",
    "\n",
    "#### Projecting the Implicit (Average) Interest Rate\n",
    "\n",
    "The implicit (average) interest rate on the public debt stock, $\\text{iir}_t$, is projected as the weighted average of the short-term market interest rate $i_t^{ST}$ and the long-term implicit interest rate $\\text{iir}_t^{LT}$:\n",
    "\n",
    "$$ \n",
    "\\text{iir}_t = \\alpha_{t-1} \\cdot i_t^{ST} + (1 - \\alpha_{t-1}) \\cdot \\text{iir}_t^{LT} \n",
    "$$\n",
    "\n",
    "Here, $\\alpha_{t-1}$ is the share of short-term debt in the total debt stock in $t-1$ and $\\text{iir}_t^{LT}$ is projected as the weighted average of the long-term market rate $i_t^{LT}$ and the long-term implicit market interest rate in $t-1$:\n",
    "\n",
    "$$ \n",
    "\\text{iir}_t^{LT} = \\beta_{t-1} \\cdot i_t^{LT} + (1 - \\beta_{t-1}) \\cdot \\text{iir}_{t-1}^{LT} \n",
    "$$\n",
    "\n",
    "where $\\beta_{t-1}$ is the share of new long-term debt issuance in total long-term debt stock in $t-1$. Long-term market rates are projected by linearly interpolating from Bloomberg 10-year government bond benchmark rates to 10Y10Y forward rates. Between T+10 and T+30, long-term market rates converge linearly to 2 percent plus national inflation targets, which yields 4.5 percent for Poland and Romania, 5 percent for Hungary, and 4 percent for all other countries. Short-term market rates are calculated using 3 months benchmark rates, 3M10Y forward rates, and 0.5 times the country-specific values for the long-term rate in T+30.\n",
    "\n",
    "To project the implicit interest rate forward, we calculate the new issuance and total stock of short-term and long-term debt in each period $t$. Gross financing needs, i.e. the size of new issuance, are the sum of all interest and amortization payments, and the primary balance. Here, interest on short-term debt is the product of short-term market rates and the stock of short-term debt in $t-1$. Interest on long-term debt is the product"
   ]
  },
  {
   "cell_type": "markdown",
   "metadata": {},
   "source": [
    "## Tutorial\n",
    "This section introduces some of the functionalities of the DsaModel class and the StochasticDsaModel class."
   ]
  },
  {
   "cell_type": "code",
   "execution_count": 1,
   "metadata": {},
   "outputs": [],
   "source": [
    "# Import libraries and modules\n",
    "import numpy as np\n",
    "import pandas as pd\n",
    "pd.options.display.float_format = \"{:,.3f}\".format\n",
    "import matplotlib.pyplot as plt\n",
    "import seaborn as sns\n",
    "sns.set_style('whitegrid')\n",
    "\n",
    "# Import DSA model class and stochastic subclass\n",
    "from classes import *\n",
    "from functions import *\n",
    "\n",
    "# Set autoreleoad\n",
    "%load_ext autoreload\n",
    "%autoreload 2"
   ]
  },
  {
   "cell_type": "markdown",
   "metadata": {},
   "source": [
    "### Initializing the DSA model and projecting the debt ratio"
   ]
  },
  {
   "cell_type": "markdown",
   "metadata": {},
   "source": [
    "Initialize model with country ISO code and adjustment period length. For deterministic projections the parent class \"DsaModel\" can be used, although I recommend always calling the StochasticDsaModel class to have access to all functionalities."
   ]
  },
  {
   "cell_type": "code",
   "execution_count": 2,
   "metadata": {},
   "outputs": [],
   "source": [
    "svk_dsa4 = DsaModel(country='SVK', adjustment_period=4) #"
   ]
  },
  {
   "cell_type": "markdown",
   "metadata": {},
   "source": [
    "Model functions (methods) and variables (attributes) can be inspected by typing the class name, followed by the attribute name. \\\n",
    "Explore the DsaModelClass and the StochasticDsaModelClass python files to see which attributes and methods exist."
   ]
  },
  {
   "cell_type": "code",
   "execution_count": 3,
   "metadata": {},
   "outputs": [
    {
     "data": {
      "text/plain": [
       "array([20.50368814, 20.33559451, 20.6687821 , 21.01695927, 21.35734671,\n",
       "       21.5841581 , 21.7377275 , 21.86330958, 22.01473418, 22.16108282,\n",
       "       22.31084272, 22.43672058, 22.55364895, 22.65715269, 22.76618652,\n",
       "       22.87998304, 22.97765563, 23.12765643, 23.26651665, 23.42138157,\n",
       "       23.56216792, 23.70389539, 23.83230274, 23.92203416, 23.98959704,\n",
       "       24.1287924 , 24.29642748, 24.48392309, 24.68234171, 24.87986955,\n",
       "       25.06433442, 25.22510647, 25.39252865, 25.51604744, 25.65497621,\n",
       "       25.75953249, 25.81268948, 25.85251054, 25.88726843, 25.87759872,\n",
       "       25.83061529, 25.784973  , 25.70466463, 25.60861974, 25.49227353,\n",
       "       25.3630293 , 25.20931508, 25.03665489])"
      ]
     },
     "execution_count": 3,
     "metadata": {},
     "output_type": "execute_result"
    }
   ],
   "source": [
    "svk_dsa4.ageing_cost"
   ]
  },
  {
   "cell_type": "markdown",
   "metadata": {},
   "source": [
    "We can project the debt ratio forward, assuming linear adjustment to a structural primary balance target using the \"project\" method. \\\n",
    "To project the model under specific scenario assumptions, pass the scenario name as a string. Deterministic scenarios are \"main_adjustment\", \"adverse_r_g\", \"financial_stress\", and \"lower_spb\"."
   ]
  },
  {
   "cell_type": "code",
   "execution_count": 4,
   "metadata": {},
   "outputs": [],
   "source": [
    "svk_dsa4.project(spb_target=1.6, scenario='financial_stress')"
   ]
  },
  {
   "cell_type": "markdown",
   "metadata": {},
   "source": [
    "For non-linear adjustment paths, for example due to an Excessive Deficit Procedure, we can specify each ajdustment step individually via the \"adjustment_steps\" attribute. \\\n",
    "Instead of specifying the steps manually, we can also call the \"find_edp\" method, which finds the number of periods in which, given the current SPB target, the minimum adjustment of 0.5% under the EDP is binding. The resulting minimum adjustment steps are updated automatically and saved in the \"edp_steps\" attribute. In cases where the entire adjustment period is needed to reach the 3% deficit targets, the adjustment step size is increased."
   ]
  },
  {
   "cell_type": "code",
   "execution_count": 5,
   "metadata": {},
   "outputs": [
    {
     "data": {
      "text/plain": [
       "array([0.5, 0.5, 0.5, 0. ])"
      ]
     },
     "execution_count": 5,
     "metadata": {},
     "output_type": "execute_result"
    }
   ],
   "source": [
    "adjustment_steps = np.array([0.5, 0.5, 0.5, 0])\n",
    "svk_dsa4.project(adjustment_steps=adjustment_steps,\n",
    "                scenario='main_adjustment')\n",
    "svk_dsa4.adjustment_steps"
   ]
  },
  {
   "cell_type": "markdown",
   "metadata": {},
   "source": [
    "We can show the resulting debt ratio and primary balance path using the \"df\" method. \\\n",
    "The \"df\" method takes strings of the model variables or a dictionary with model variables and desired column names as input argument and returns a pandas dataframe. If the method is called without specified variables, it returns a dataframe with the structural primary balance, the overall balance, and the debt ratio. "
   ]
  },
  {
   "cell_type": "code",
   "execution_count": 6,
   "metadata": {},
   "outputs": [
    {
     "data": {
      "text/html": [
       "<div>\n",
       "<style scoped>\n",
       "    .dataframe tbody tr th:only-of-type {\n",
       "        vertical-align: middle;\n",
       "    }\n",
       "\n",
       "    .dataframe tbody tr th {\n",
       "        vertical-align: top;\n",
       "    }\n",
       "\n",
       "    .dataframe thead th {\n",
       "        text-align: right;\n",
       "    }\n",
       "</style>\n",
       "<table border=\"1\" class=\"dataframe\">\n",
       "  <thead>\n",
       "    <tr style=\"text-align: right;\">\n",
       "      <th></th>\n",
       "      <th></th>\n",
       "      <th>d</th>\n",
       "      <th>ob</th>\n",
       "      <th>sb</th>\n",
       "      <th>spb_bca</th>\n",
       "      <th>spb_bca_adjustment</th>\n",
       "    </tr>\n",
       "    <tr>\n",
       "      <th>t</th>\n",
       "      <th>y</th>\n",
       "      <th></th>\n",
       "      <th></th>\n",
       "      <th></th>\n",
       "      <th></th>\n",
       "      <th></th>\n",
       "    </tr>\n",
       "  </thead>\n",
       "  <tbody>\n",
       "    <tr>\n",
       "      <th>1</th>\n",
       "      <th>2024</th>\n",
       "      <td>58.320</td>\n",
       "      <td>-5.853</td>\n",
       "      <td>-5.592</td>\n",
       "      <td>-4.263</td>\n",
       "      <td>-0.749</td>\n",
       "    </tr>\n",
       "    <tr>\n",
       "      <th>2</th>\n",
       "      <th>2025</th>\n",
       "      <td>59.460</td>\n",
       "      <td>-5.357</td>\n",
       "      <td>-5.255</td>\n",
       "      <td>-3.763</td>\n",
       "      <td>0.500</td>\n",
       "    </tr>\n",
       "    <tr>\n",
       "      <th>3</th>\n",
       "      <th>2026</th>\n",
       "      <td>61.988</td>\n",
       "      <td>-5.103</td>\n",
       "      <td>-4.892</td>\n",
       "      <td>-3.263</td>\n",
       "      <td>0.500</td>\n",
       "    </tr>\n",
       "    <tr>\n",
       "      <th>4</th>\n",
       "      <th>2027</th>\n",
       "      <td>64.253</td>\n",
       "      <td>-4.813</td>\n",
       "      <td>-4.541</td>\n",
       "      <td>-2.763</td>\n",
       "      <td>0.500</td>\n",
       "    </tr>\n",
       "    <tr>\n",
       "      <th>5</th>\n",
       "      <th>2028</th>\n",
       "      <td>66.191</td>\n",
       "      <td>-4.811</td>\n",
       "      <td>-4.668</td>\n",
       "      <td>-2.763</td>\n",
       "      <td>0.000</td>\n",
       "    </tr>\n",
       "    <tr>\n",
       "      <th>6</th>\n",
       "      <th>2029</th>\n",
       "      <td>68.340</td>\n",
       "      <td>-4.996</td>\n",
       "      <td>-4.949</td>\n",
       "      <td>-2.763</td>\n",
       "      <td>0.000</td>\n",
       "    </tr>\n",
       "  </tbody>\n",
       "</table>\n",
       "</div>"
      ],
      "text/plain": [
       "            d     ob     sb  spb_bca  spb_bca_adjustment\n",
       "t y                                                     \n",
       "1 2024 58.320 -5.853 -5.592   -4.263              -0.749\n",
       "2 2025 59.460 -5.357 -5.255   -3.763               0.500\n",
       "3 2026 61.988 -5.103 -4.892   -3.263               0.500\n",
       "4 2027 64.253 -4.813 -4.541   -2.763               0.500\n",
       "5 2028 66.191 -4.811 -4.668   -2.763               0.000\n",
       "6 2029 68.340 -4.996 -4.949   -2.763               0.000"
      ]
     },
     "execution_count": 6,
     "metadata": {},
     "output_type": "execute_result"
    }
   ],
   "source": [
    "svk_dsa4.df().iloc[1:7]"
   ]
  },
  {
   "cell_type": "markdown",
   "metadata": {},
   "source": [
    "If the df method is called with parameter \"all\" set to \"True\", a preset list of variables will be included. The included variables are listed below."
   ]
  },
  {
   "cell_type": "code",
   "execution_count": 7,
   "metadata": {},
   "outputs": [
    {
     "data": {
      "text/plain": [
       "Index(['d', 'spb_bca', 'spb_bca_adjustment', 'spb', 'pb', 'ob', 'sb',\n",
       "       'ageing_component', 'cyclical_component', 'interest_ratio',\n",
       "       'ageing_cost', 'rg', 'rg_pot', 'ng', 'output_gap', 'pi', 'rgdp_pot',\n",
       "       'rgdp', 'ngdp', 'i_st', 'i_lt', 'iir_lt', 'iir', 'sf', 'D', 'D_lt_esm',\n",
       "       'D_st', 'D_lt', 'repayment', 'repayment_lt', 'repayment_lt_esm',\n",
       "       'interest', 'interest_lt', 'interest_st'],\n",
       "      dtype='object')"
      ]
     },
     "execution_count": 7,
     "metadata": {},
     "output_type": "execute_result"
    }
   ],
   "source": [
    "svk_dsa4.df(all=True).columns"
   ]
  },
  {
   "cell_type": "markdown",
   "metadata": {},
   "source": [
    "### Deterministic Optimization"
   ]
  },
  {
   "cell_type": "markdown",
   "metadata": {},
   "source": [
    "The \"find_spb_deterministic\" optimizes for a structural primary balance at the end of the adjustment period that meets the specified deterministic scenario criterion. Additional parameters, like initial adjustment periods, that have been specified in the initial projection, are taken as given.\\\n",
    "The criterion can be any of 'main_adjustment', 'lower_spb', 'financial_stress', 'adverse_r_g', 'deficit_reduction', or 'debt_safeguard'. \\\n",
    "Note that the debt_safeguard is applied from the end of the Excessive Deficit Procedure. Because the end of the EDP may vary with the size of annual adjustments, the debt safeguard may produce a different target when applied by itself or after having optimized for other criteria. In our analysis, we apply the debt safeguard conditional on the toughest scenario path."
   ]
  },
  {
   "cell_type": "code",
   "execution_count": 15,
   "metadata": {},
   "outputs": [
    {
     "data": {
      "text/plain": [
       "0.7796999999998313"
      ]
     },
     "execution_count": 15,
     "metadata": {},
     "output_type": "execute_result"
    }
   ],
   "source": [
    "svk_dsa4.find_spb_deterministic(criterion='adverse_r_g')"
   ]
  },
  {
   "cell_type": "markdown",
   "metadata": {},
   "source": [
    "The model projections are updated automatically to the optimal SPB target and we can plot the resulting debt ratio projection, for example by using the \"df\" method and pandas' built-in plotting function.\\\n",
    "Here we plot the ageing-cost adjusted structural primary balance, as well as the structural primary balance that includes ageing costs, the overall balance, and the debt ratio."
   ]
  },
  {
   "cell_type": "code",
   "execution_count": 16,
   "metadata": {},
   "outputs": [
    {
     "data": {
      "text/plain": [
       "<Axes: title={'center': 'Slovakia: Debt ratio and balance'}, xlabel='(t, Year)'>"
      ]
     },
     "execution_count": 16,
     "metadata": {},
     "output_type": "execute_result"
    },
    {
     "data": {
      "image/png": "[encoded data removed]",
      "text/plain": [
       "<Figure size 1000x600 with 2 Axes>"
      ]
     },
     "metadata": {},
     "output_type": "display_data"
    }
   ],
   "source": [
    "svk_dsa4.df('spb_bca', 'spb',  'ob', 'd').plot(\n",
    "    title='Slovakia: Debt ratio and balance', \n",
    "    secondary_y=['spb', 'spb_bca', 'ob'], \n",
    "    ylabel='Percent of GDP', \n",
    "    xlabel='(t, Year)', \n",
    "    legend=True, \n",
    "    figsize=(10, 6))"
   ]
  },
  {
   "cell_type": "markdown",
   "metadata": {},
   "source": [
    "### Stochastic Optimization"
   ]
  },
  {
   "cell_type": "markdown",
   "metadata": {},
   "source": [
    "The StochasticDsaModel class is a subclass of the DsaModel and inherits all its functionalities. It is initiated analogously.\n",
    "\n",
    "The latest update introuces a number of addiitonal parameters that can be altered to test model assumptions. These include:\n",
    "- \"ageing_cost_period\" to specify the post-adjustment window during which ageing costs are seperated out from SPB \n",
    "- \"shock_frequency\" to specify the underlying shock data frequenct as \"quarterly\" or annual\"\n",
    "- \"shock_sample_start\" for the start of the sampled shock data\n",
    "- \"stochastic_start_year\" for the start of the fanchart, ie the period form which unceirtainty is incorporated into projections"
   ]
  },
  {
   "cell_type": "code",
   "execution_count": 23,
   "metadata": {},
   "outputs": [],
   "source": [
    "svk_sdsa7 = StochasticDsaModel(country='SVK', adjustment_period=7)"
   ]
  },
  {
   "cell_type": "markdown",
   "metadata": {},
   "source": [
    "After projecting the debt path, the \"simulate\" method simulates N projections based on shocks to growth, interest rate, exchange rate, and primary balance."
   ]
  },
  {
   "cell_type": "code",
   "execution_count": 24,
   "metadata": {},
   "outputs": [],
   "source": [
    "svk_sdsa7.project()\n",
    "svk_sdsa7.simulate(N=10000)"
   ]
  },
  {
   "cell_type": "markdown",
   "metadata": {},
   "source": [
    "The \"fanchart\" method plots the percentiles of the simulated distribution of the debt ratio. If the save_df option is specified, we can access the underlying percentile data as new model attribute. The period parameter determines the number of projection periods. The Commission methodology uses 5."
   ]
  },
  {
   "cell_type": "code",
   "execution_count": 25,
   "metadata": {},
   "outputs": [
    {
     "data": {
      "image/png": "[encoded data removed]",
      "text/plain": [
       "<Figure size 1000x600 with 1 Axes>"
      ]
     },
     "metadata": {},
     "output_type": "display_data"
    }
   ],
   "source": [
    "svk_sdsa7.fanchart(variable='d', periods=10)"
   ]
  },
  {
   "cell_type": "code",
   "execution_count": 26,
   "metadata": {},
   "outputs": [
    {
     "data": {
      "text/html": [
       "<div>\n",
       "<style scoped>\n",
       "    .dataframe tbody tr th:only-of-type {\n",
       "        vertical-align: middle;\n",
       "    }\n",
       "\n",
       "    .dataframe tbody tr th {\n",
       "        vertical-align: top;\n",
       "    }\n",
       "\n",
       "    .dataframe thead th {\n",
       "        text-align: right;\n",
       "    }\n",
       "</style>\n",
       "<table border=\"1\" class=\"dataframe\">\n",
       "  <thead>\n",
       "    <tr style=\"text-align: right;\">\n",
       "      <th></th>\n",
       "      <th>year</th>\n",
       "      <th>baseline</th>\n",
       "      <th>p10</th>\n",
       "      <th>p20</th>\n",
       "      <th>p30</th>\n",
       "      <th>p40</th>\n",
       "      <th>p50</th>\n",
       "      <th>p60</th>\n",
       "      <th>p70</th>\n",
       "      <th>p80</th>\n",
       "      <th>p90</th>\n",
       "    </tr>\n",
       "  </thead>\n",
       "  <tbody>\n",
       "    <tr>\n",
       "      <th>1</th>\n",
       "      <td>2024</td>\n",
       "      <td>58.320</td>\n",
       "      <td>58.320</td>\n",
       "      <td>58.320</td>\n",
       "      <td>58.320</td>\n",
       "      <td>58.320</td>\n",
       "      <td>58.320</td>\n",
       "      <td>58.320</td>\n",
       "      <td>58.320</td>\n",
       "      <td>58.320</td>\n",
       "      <td>58.320</td>\n",
       "    </tr>\n",
       "    <tr>\n",
       "      <th>2</th>\n",
       "      <td>2025</td>\n",
       "      <td>59.608</td>\n",
       "      <td>55.146</td>\n",
       "      <td>56.696</td>\n",
       "      <td>57.830</td>\n",
       "      <td>58.755</td>\n",
       "      <td>59.657</td>\n",
       "      <td>60.564</td>\n",
       "      <td>61.553</td>\n",
       "      <td>62.709</td>\n",
       "      <td>64.171</td>\n",
       "    </tr>\n",
       "    <tr>\n",
       "      <th>3</th>\n",
       "      <td>2026</td>\n",
       "      <td>62.752</td>\n",
       "      <td>56.371</td>\n",
       "      <td>58.564</td>\n",
       "      <td>60.209</td>\n",
       "      <td>61.584</td>\n",
       "      <td>62.820</td>\n",
       "      <td>64.052</td>\n",
       "      <td>65.452</td>\n",
       "      <td>67.050</td>\n",
       "      <td>69.282</td>\n",
       "    </tr>\n",
       "    <tr>\n",
       "      <th>4</th>\n",
       "      <td>2027</td>\n",
       "      <td>66.152</td>\n",
       "      <td>58.530</td>\n",
       "      <td>61.137</td>\n",
       "      <td>63.048</td>\n",
       "      <td>64.722</td>\n",
       "      <td>66.192</td>\n",
       "      <td>67.714</td>\n",
       "      <td>69.416</td>\n",
       "      <td>71.280</td>\n",
       "      <td>73.895</td>\n",
       "    </tr>\n",
       "    <tr>\n",
       "      <th>5</th>\n",
       "      <td>2028</td>\n",
       "      <td>69.680</td>\n",
       "      <td>60.773</td>\n",
       "      <td>63.779</td>\n",
       "      <td>66.152</td>\n",
       "      <td>67.923</td>\n",
       "      <td>69.694</td>\n",
       "      <td>71.487</td>\n",
       "      <td>73.389</td>\n",
       "      <td>75.619</td>\n",
       "      <td>78.774</td>\n",
       "    </tr>\n",
       "    <tr>\n",
       "      <th>6</th>\n",
       "      <td>2029</td>\n",
       "      <td>73.280</td>\n",
       "      <td>63.428</td>\n",
       "      <td>66.795</td>\n",
       "      <td>69.332</td>\n",
       "      <td>71.361</td>\n",
       "      <td>73.333</td>\n",
       "      <td>75.317</td>\n",
       "      <td>77.485</td>\n",
       "      <td>79.943</td>\n",
       "      <td>83.303</td>\n",
       "    </tr>\n",
       "    <tr>\n",
       "      <th>7</th>\n",
       "      <td>2030</td>\n",
       "      <td>76.963</td>\n",
       "      <td>66.005</td>\n",
       "      <td>69.844</td>\n",
       "      <td>72.577</td>\n",
       "      <td>74.939</td>\n",
       "      <td>77.001</td>\n",
       "      <td>79.145</td>\n",
       "      <td>81.547</td>\n",
       "      <td>84.273</td>\n",
       "      <td>88.077</td>\n",
       "    </tr>\n",
       "    <tr>\n",
       "      <th>8</th>\n",
       "      <td>2031</td>\n",
       "      <td>80.725</td>\n",
       "      <td>68.654</td>\n",
       "      <td>72.772</td>\n",
       "      <td>75.772</td>\n",
       "      <td>78.286</td>\n",
       "      <td>80.621</td>\n",
       "      <td>83.120</td>\n",
       "      <td>85.662</td>\n",
       "      <td>88.723</td>\n",
       "      <td>92.821</td>\n",
       "    </tr>\n",
       "    <tr>\n",
       "      <th>9</th>\n",
       "      <td>2032</td>\n",
       "      <td>84.713</td>\n",
       "      <td>71.513</td>\n",
       "      <td>75.939</td>\n",
       "      <td>79.237</td>\n",
       "      <td>82.070</td>\n",
       "      <td>84.718</td>\n",
       "      <td>87.382</td>\n",
       "      <td>90.266</td>\n",
       "      <td>93.524</td>\n",
       "      <td>98.145</td>\n",
       "    </tr>\n",
       "    <tr>\n",
       "      <th>10</th>\n",
       "      <td>2033</td>\n",
       "      <td>88.946</td>\n",
       "      <td>74.232</td>\n",
       "      <td>79.284</td>\n",
       "      <td>82.898</td>\n",
       "      <td>85.990</td>\n",
       "      <td>88.986</td>\n",
       "      <td>91.881</td>\n",
       "      <td>94.947</td>\n",
       "      <td>98.726</td>\n",
       "      <td>103.797</td>\n",
       "    </tr>\n",
       "    <tr>\n",
       "      <th>11</th>\n",
       "      <td>2034</td>\n",
       "      <td>93.338</td>\n",
       "      <td>77.397</td>\n",
       "      <td>82.659</td>\n",
       "      <td>86.597</td>\n",
       "      <td>89.989</td>\n",
       "      <td>93.227</td>\n",
       "      <td>96.366</td>\n",
       "      <td>99.816</td>\n",
       "      <td>103.885</td>\n",
       "      <td>110.021</td>\n",
       "    </tr>\n",
       "  </tbody>\n",
       "</table>\n",
       "</div>"
      ],
      "text/plain": [
       "    year  baseline    p10    p20    p30    p40    p50    p60    p70     p80  \\\n",
       "1   2024    58.320 58.320 58.320 58.320 58.320 58.320 58.320 58.320  58.320   \n",
       "2   2025    59.608 55.146 56.696 57.830 58.755 59.657 60.564 61.553  62.709   \n",
       "3   2026    62.752 56.371 58.564 60.209 61.584 62.820 64.052 65.452  67.050   \n",
       "4   2027    66.152 58.530 61.137 63.048 64.722 66.192 67.714 69.416  71.280   \n",
       "5   2028    69.680 60.773 63.779 66.152 67.923 69.694 71.487 73.389  75.619   \n",
       "6   2029    73.280 63.428 66.795 69.332 71.361 73.333 75.317 77.485  79.943   \n",
       "7   2030    76.963 66.005 69.844 72.577 74.939 77.001 79.145 81.547  84.273   \n",
       "8   2031    80.725 68.654 72.772 75.772 78.286 80.621 83.120 85.662  88.723   \n",
       "9   2032    84.713 71.513 75.939 79.237 82.070 84.718 87.382 90.266  93.524   \n",
       "10  2033    88.946 74.232 79.284 82.898 85.990 88.986 91.881 94.947  98.726   \n",
       "11  2034    93.338 77.397 82.659 86.597 89.989 93.227 96.366 99.816 103.885   \n",
       "\n",
       "       p90  \n",
       "1   58.320  \n",
       "2   64.171  \n",
       "3   69.282  \n",
       "4   73.895  \n",
       "5   78.774  \n",
       "6   83.303  \n",
       "7   88.077  \n",
       "8   92.821  \n",
       "9   98.145  \n",
       "10 103.797  \n",
       "11 110.021  "
      ]
     },
     "execution_count": 26,
     "metadata": {},
     "output_type": "execute_result"
    }
   ],
   "source": [
    "svk_sdsa7.df_fanchart.dropna()"
   ]
  },
  {
   "cell_type": "markdown",
   "metadata": {},
   "source": [
    "The \"find_spb_stochastic\" method optimizes for the primary balance path that ensures no more than 30% of simulated debt ratio paths are increasing. The probability target and the period over whcih the fanchart and the criterion are applied can be changed from their default values."
   ]
  },
  {
   "cell_type": "code",
   "execution_count": 27,
   "metadata": {},
   "outputs": [
    {
     "data": {
      "text/plain": [
       "1.2796660686172792"
      ]
     },
     "execution_count": 27,
     "metadata": {},
     "output_type": "execute_result"
    }
   ],
   "source": [
    "svk_sdsa7.find_spb_stochastic(prob_target=0.3, stochastic_criterion_period=5)"
   ]
  },
  {
   "cell_type": "markdown",
   "metadata": {},
   "source": [
    "### Integrated optimization"
   ]
  },
  {
   "cell_type": "markdown",
   "metadata": {},
   "source": [
    "To quickly calculate all scenarios and detmerine which is binding, we can call the \"find_spb_binding\" method. Note that this method is only available after initalizing a stochastic model. \\\n",
    "The method determines optimal SPB targets for all deterministic and stochastic DSA criteria, as well as for the 3% deficit criteria. If no spcified differently, the method then checks whether the EDP or either of the two safeguards, the debt and the deficit resilience safeguard, are violated and corrects the binding SPB target accordingly."
   ]
  },
  {
   "cell_type": "code",
   "execution_count": 48,
   "metadata": {},
   "outputs": [
    {
     "name": "stdout",
     "output_type": "stream",
     "text": [
      "\n",
      "________________________ Optimizing ESP 7-year ________________________\n",
      "SPB*: 2.7778999999998115 (adverse_r_g)\n",
      "EDP not binding\n",
      "Debt safeguard not binding\n",
      "Deficit resilience safeguard not binding during adjustment period\n",
      "SPB post-adjustment: 1.419425546943073\n"
     ]
    },
    {
     "data": {
      "text/plain": [
       "'Binding SPB target: 2.7778999999998115 (adverse_r_g)'"
      ]
     },
     "execution_count": 48,
     "metadata": {},
     "output_type": "execute_result"
    }
   ],
   "source": [
    "esp_sdsa7.find_spb_binding(\n",
    "    save_df=True, \n",
    "    edp=True, \n",
    "    debt_safeguard=True, \n",
    "    deficit_resilience=True, \n",
    "    deficit_resilience_post_adjustment=True\n",
    "    )"
   ]
  },
  {
   "cell_type": "markdown",
   "metadata": {},
   "source": [
    "The \"find_spb_binding\" method saves a dictionaries with the binding targets and timeseries for all scenarios. In addition, it saves the projection parameters of the binding scenario for quick replication."
   ]
  },
  {
   "cell_type": "code",
   "execution_count": 49,
   "metadata": {},
   "outputs": [
    {
     "data": {
      "text/plain": [
       "{'main_adjustment': 2.10979999999983,\n",
       " 'lower_spb': 2.6006999999998004,\n",
       " 'financial_stress': 2.148999999999827,\n",
       " 'adverse_r_g': 2.7778999999998115,\n",
       " 'deficit_reduction': 2.2566999999998205,\n",
       " 'stochastic': 1.901660528129993,\n",
       " 'post_adjustment': 1.419425546943073,\n",
       " 'binding': 2.7778999999998115}"
      ]
     },
     "execution_count": 49,
     "metadata": {},
     "output_type": "execute_result"
    }
   ],
   "source": [
    "esp_sdsa7.spb_target_dict"
   ]
  },
  {
   "cell_type": "code",
   "execution_count": 50,
   "metadata": {},
   "outputs": [
    {
     "data": {
      "text/html": [
       "<div>\n",
       "<style scoped>\n",
       "    .dataframe tbody tr th:only-of-type {\n",
       "        vertical-align: middle;\n",
       "    }\n",
       "\n",
       "    .dataframe tbody tr th {\n",
       "        vertical-align: top;\n",
       "    }\n",
       "\n",
       "    .dataframe thead th {\n",
       "        text-align: right;\n",
       "    }\n",
       "</style>\n",
       "<table border=\"1\" class=\"dataframe\">\n",
       "  <thead>\n",
       "    <tr style=\"text-align: right;\">\n",
       "      <th></th>\n",
       "      <th></th>\n",
       "      <th>d</th>\n",
       "      <th>spb_bca</th>\n",
       "      <th>spb_bca_adjustment</th>\n",
       "      <th>spb</th>\n",
       "      <th>pb</th>\n",
       "      <th>ob</th>\n",
       "      <th>sb</th>\n",
       "      <th>ageing_component</th>\n",
       "      <th>cyclical_component</th>\n",
       "      <th>interest_ratio</th>\n",
       "      <th>...</th>\n",
       "      <th>D</th>\n",
       "      <th>D_lt_esm</th>\n",
       "      <th>D_st</th>\n",
       "      <th>D_lt</th>\n",
       "      <th>repayment</th>\n",
       "      <th>repayment_lt</th>\n",
       "      <th>repayment_lt_esm</th>\n",
       "      <th>interest</th>\n",
       "      <th>interest_lt</th>\n",
       "      <th>interest_st</th>\n",
       "    </tr>\n",
       "    <tr>\n",
       "      <th>t</th>\n",
       "      <th>y</th>\n",
       "      <th></th>\n",
       "      <th></th>\n",
       "      <th></th>\n",
       "      <th></th>\n",
       "      <th></th>\n",
       "      <th></th>\n",
       "      <th></th>\n",
       "      <th></th>\n",
       "      <th></th>\n",
       "      <th></th>\n",
       "      <th></th>\n",
       "      <th></th>\n",
       "      <th></th>\n",
       "      <th></th>\n",
       "      <th></th>\n",
       "      <th></th>\n",
       "      <th></th>\n",
       "      <th></th>\n",
       "      <th></th>\n",
       "      <th></th>\n",
       "      <th></th>\n",
       "    </tr>\n",
       "  </thead>\n",
       "  <tbody>\n",
       "    <tr>\n",
       "      <th>0</th>\n",
       "      <th>2023</th>\n",
       "      <td>107.652</td>\n",
       "      <td>-1.631</td>\n",
       "      <td>NaN</td>\n",
       "      <td>-1.631</td>\n",
       "      <td>-1.176</td>\n",
       "      <td>-3.636</td>\n",
       "      <td>NaN</td>\n",
       "      <td>0.000</td>\n",
       "      <td>0.455</td>\n",
       "      <td>NaN</td>\n",
       "      <td>...</td>\n",
       "      <td>1,573.800</td>\n",
       "      <td>-0.000</td>\n",
       "      <td>89.822</td>\n",
       "      <td>1,483.978</td>\n",
       "      <td>NaN</td>\n",
       "      <td>NaN</td>\n",
       "      <td>4.575</td>\n",
       "      <td>NaN</td>\n",
       "      <td>NaN</td>\n",
       "      <td>NaN</td>\n",
       "    </tr>\n",
       "    <tr>\n",
       "      <th>1</th>\n",
       "      <th>2024</th>\n",
       "      <td>105.229</td>\n",
       "      <td>-0.849</td>\n",
       "      <td>0.782</td>\n",
       "      <td>-0.849</td>\n",
       "      <td>-0.265</td>\n",
       "      <td>-2.788</td>\n",
       "      <td>-3.372</td>\n",
       "      <td>0.000</td>\n",
       "      <td>0.584</td>\n",
       "      <td>2.523</td>\n",
       "      <td>...</td>\n",
       "      <td>1,623.720</td>\n",
       "      <td>-4.575</td>\n",
       "      <td>92.671</td>\n",
       "      <td>1,531.049</td>\n",
       "      <td>221.170</td>\n",
       "      <td>131.348</td>\n",
       "      <td>4.575</td>\n",
       "      <td>38.895</td>\n",
       "      <td>35.964</td>\n",
       "      <td>2.931</td>\n",
       "    </tr>\n",
       "    <tr>\n",
       "      <th>2</th>\n",
       "      <th>2025</th>\n",
       "      <td>104.512</td>\n",
       "      <td>-0.331</td>\n",
       "      <td>0.518</td>\n",
       "      <td>-0.331</td>\n",
       "      <td>0.019</td>\n",
       "      <td>-2.542</td>\n",
       "      <td>-2.892</td>\n",
       "      <td>0.000</td>\n",
       "      <td>0.350</td>\n",
       "      <td>2.561</td>\n",
       "      <td>...</td>\n",
       "      <td>1,679.602</td>\n",
       "      <td>-8.218</td>\n",
       "      <td>95.861</td>\n",
       "      <td>1,583.742</td>\n",
       "      <td>227.484</td>\n",
       "      <td>134.813</td>\n",
       "      <td>3.643</td>\n",
       "      <td>41.068</td>\n",
       "      <td>37.872</td>\n",
       "      <td>3.196</td>\n",
       "    </tr>\n",
       "    <tr>\n",
       "      <th>3</th>\n",
       "      <th>2026</th>\n",
       "      <td>103.558</td>\n",
       "      <td>0.187</td>\n",
       "      <td>0.518</td>\n",
       "      <td>0.187</td>\n",
       "      <td>0.189</td>\n",
       "      <td>-2.487</td>\n",
       "      <td>-2.488</td>\n",
       "      <td>0.000</td>\n",
       "      <td>0.001</td>\n",
       "      <td>2.675</td>\n",
       "      <td>...</td>\n",
       "      <td>1,720.840</td>\n",
       "      <td>-11.861</td>\n",
       "      <td>98.214</td>\n",
       "      <td>1,622.626</td>\n",
       "      <td>235.577</td>\n",
       "      <td>139.716</td>\n",
       "      <td>3.643</td>\n",
       "      <td>44.365</td>\n",
       "      <td>41.074</td>\n",
       "      <td>3.291</td>\n",
       "    </tr>\n",
       "    <tr>\n",
       "      <th>4</th>\n",
       "      <th>2027</th>\n",
       "      <td>102.516</td>\n",
       "      <td>0.705</td>\n",
       "      <td>0.518</td>\n",
       "      <td>0.705</td>\n",
       "      <td>0.435</td>\n",
       "      <td>-2.323</td>\n",
       "      <td>-2.053</td>\n",
       "      <td>0.000</td>\n",
       "      <td>-0.270</td>\n",
       "      <td>2.758</td>\n",
       "      <td>...</td>\n",
       "      <td>1,760.644</td>\n",
       "      <td>-11.861</td>\n",
       "      <td>100.486</td>\n",
       "      <td>1,660.158</td>\n",
       "      <td>238.028</td>\n",
       "      <td>139.813</td>\n",
       "      <td>0.000</td>\n",
       "      <td>47.265</td>\n",
       "      <td>43.908</td>\n",
       "      <td>3.357</td>\n",
       "    </tr>\n",
       "  </tbody>\n",
       "</table>\n",
       "<p>5 rows × 34 columns</p>\n",
       "</div>"
      ],
      "text/plain": [
       "             d  spb_bca  spb_bca_adjustment    spb     pb     ob     sb  \\\n",
       "t y                                                                       \n",
       "0 2023 107.652   -1.631                 NaN -1.631 -1.176 -3.636    NaN   \n",
       "1 2024 105.229   -0.849               0.782 -0.849 -0.265 -2.788 -3.372   \n",
       "2 2025 104.512   -0.331               0.518 -0.331  0.019 -2.542 -2.892   \n",
       "3 2026 103.558    0.187               0.518  0.187  0.189 -2.487 -2.488   \n",
       "4 2027 102.516    0.705               0.518  0.705  0.435 -2.323 -2.053   \n",
       "\n",
       "        ageing_component  cyclical_component  interest_ratio  ...         D  \\\n",
       "t y                                                           ...             \n",
       "0 2023             0.000               0.455             NaN  ... 1,573.800   \n",
       "1 2024             0.000               0.584           2.523  ... 1,623.720   \n",
       "2 2025             0.000               0.350           2.561  ... 1,679.602   \n",
       "3 2026             0.000               0.001           2.675  ... 1,720.840   \n",
       "4 2027             0.000              -0.270           2.758  ... 1,760.644   \n",
       "\n",
       "        D_lt_esm    D_st      D_lt  repayment  repayment_lt  repayment_lt_esm  \\\n",
       "t y                                                                             \n",
       "0 2023    -0.000  89.822 1,483.978        NaN           NaN             4.575   \n",
       "1 2024    -4.575  92.671 1,531.049    221.170       131.348             4.575   \n",
       "2 2025    -8.218  95.861 1,583.742    227.484       134.813             3.643   \n",
       "3 2026   -11.861  98.214 1,622.626    235.577       139.716             3.643   \n",
       "4 2027   -11.861 100.486 1,660.158    238.028       139.813             0.000   \n",
       "\n",
       "        interest  interest_lt  interest_st  \n",
       "t y                                         \n",
       "0 2023       NaN          NaN          NaN  \n",
       "1 2024    38.895       35.964        2.931  \n",
       "2 2025    41.068       37.872        3.196  \n",
       "3 2026    44.365       41.074        3.291  \n",
       "4 2027    47.265       43.908        3.357  \n",
       "\n",
       "[5 rows x 34 columns]"
      ]
     },
     "execution_count": 50,
     "metadata": {},
     "output_type": "execute_result"
    }
   ],
   "source": [
    "esp_sdsa7.df_dict['binding'].head()"
   ]
  },
  {
   "cell_type": "code",
   "execution_count": 51,
   "metadata": {},
   "outputs": [
    {
     "data": {
      "text/plain": [
       "{'adjustment_steps': array([0.51812857, 0.51812857, 0.51812857, 0.51812857, 0.51812857,\n",
       "        0.51812857, 0.51812857]),\n",
       " 'spb_target': 2.7778999999998115,\n",
       " 'criterion': 'adverse_r_g',\n",
       " 'edp_binding': False,\n",
       " 'edp_steps': array([nan, nan, nan, nan, nan, nan, nan]),\n",
       " 'deficit_resilience_steps': array([nan, nan, nan, nan, nan, nan, nan]),\n",
       " 'post_adjustment_steps': array([0.   , 0.   , 0.   , 0.   , 0.   , 0.028, 0.18 , 0.171, 0.142,\n",
       "        0.173, 0.   , 0.   , 0.   , 0.   , 0.   , 0.   , 0.   , 0.   ,\n",
       "        0.   , 0.   , 0.   , 0.   , 0.   , 0.   , 0.   , 0.   , 0.   ,\n",
       "        0.   , 0.   , 0.   , 0.   , 0.   , 0.   , 0.   , 0.   , 0.   ,\n",
       "        0.   , 0.   , 0.   ])}"
      ]
     },
     "execution_count": 51,
     "metadata": {},
     "output_type": "execute_result"
    }
   ],
   "source": [
    "esp_sdsa7.binding_parameter_dict"
   ]
  },
  {
   "cell_type": "markdown",
   "metadata": {},
   "source": [
    "The \"find_deficit_prob\" method builds on the stochastic model to calculate the probabilites of an excessive deficit in each year of the adjustment period. \\\n",
    "We can either call it directly by specifying an adjustment path or call it after we have optimized the path as above."
   ]
  },
  {
   "cell_type": "code",
   "execution_count": 65,
   "metadata": {},
   "outputs": [
    {
     "data": {
      "text/plain": [
       "Text(0.5, 1.0, 'Spain: Probability of deficit during 7-year adjustment')"
      ]
     },
     "execution_count": 65,
     "metadata": {},
     "output_type": "execute_result"
    },
    {
     "data": {
      "image/png": "[encoded data removed]",
      "text/plain": [
       "<Figure size 640x480 with 1 Axes>"
      ]
     },
     "metadata": {},
     "output_type": "display_data"
    }
   ],
   "source": [
    "prob_deficit = esp_sdsa7.find_deficit_prob()\n",
    "plt.bar(np.arange(2025, 2032), prob_deficit)\n",
    "plt.title('Spain: Probability of deficit during 7-year adjustment')"
   ]
  },
  {
   "cell_type": "markdown",
   "metadata": {},
   "source": [
    "### Running the DSA"
   ]
  },
  {
   "cell_type": "markdown",
   "metadata": {},
   "source": [
    "The functions in the functions folder contian preset loops that run the DSA for all countries, save and plot results. Simply run the \"main.ipynb\"."
   ]
  }
 ],
 "metadata": {
  "kernelspec": {
   "display_name": "Python 3 (ipykernel)",
   "language": "python",
   "name": "python3"
  },
  "language_info": {
   "codemirror_mode": {
    "name": "ipython",
    "version": 3
   },
   "file_extension": ".py",
   "mimetype": "text/x-python",
   "name": "python",
   "nbconvert_exporter": "python",
   "pygments_lexer": "ipython3",
   "version": "3.11.5"
  }
 },
 "nbformat": 4,
 "nbformat_minor": 4
}
