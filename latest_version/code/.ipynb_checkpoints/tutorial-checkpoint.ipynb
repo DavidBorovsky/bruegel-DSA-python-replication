{
 "cells": [
  {
   "cell_type": "markdown",
   "metadata": {},
   "source": [
    "# How to replicate the European Commission DSA\n",
    "\n",
    "This notebook features an tutorial for the stochastic DSA model replication introduced in \"A Quantitative Evaluation of the European Commission´s Fiscal Governance Proposal\" by Zsolt Darvas, Lennard Welslau, and Jeromin Zettelmeyer (2023). For details on the methodology see the methodology section below and Annex A3 of the [European Commission's Debt Sustainability Monitor 2023](https://economy-finance.ec.europa.eu/publications/debt-sustainability-monitor-2023_en).\n",
    "\n",
    "For comments and suggestions please contact lennard.welslau[at]gmail[dot]com.\\\n",
    "Last update: 01 June 2024"
   ]
  },
  {
   "cell_type": "markdown",
   "metadata": {},
   "source": [
    "## Methodology"
   ]
  },
  {
   "cell_type": "markdown",
   "metadata": {},
   "source": [
    "### Deterministic Debt Projections\n",
    "\n",
    "The starting point for the DSA methodology applied in this paper is the European Commission’s Debt Sustainability Monitor (DSM) 2023 (European Commission, 2024). Annex A3 of the DSM describes debt dynamics and the projection of implicit interest rate on government debt. The debt ratio in a given year, $d_t$, is calculated as:\n",
    "\n",
    "$$\n",
    "d_t = \\alpha^n \\cdot d_{t-1} \\cdot \\frac{(1+\\text{iir}_t)}{(1+g_t)} + \\alpha^f \\cdot d_{t-1} \\cdot \\frac{(1+\\text{iir}_t)}{(1+g_t)} \\cdot \\frac{e_t}{e_{t-1}} - pb_t + f_t, \n",
    "$$\n",
    "\n",
    "where:\n",
    "- $\\alpha^n$ represents the share of total government debt denominated in domestic currency,\n",
    "- $\\alpha^f$ represents the share of total government debt denominated in other currencies,\n",
    "- $\\text{iir}_t$ represents the implicit interest rate on government debt (total interest payment during a year divided by the stock of debt at the end of the previous year),\n",
    "- $g_t$ represents the nominal growth rate of GDP (in national currency),\n",
    "- $e_t$ represents the nominal exchange rate (expressed as national currency per foreign currency),\n",
    "- $pb_t$ represents the primary balance ratio,\n",
    "- $f_t$ represents stock-flow adjustments over GDP.\n",
    "\n",
    "#### Adverse Deterministic Stress Tests\n",
    "\n",
    "In addition to the baseline deterministic scenario, three alternative deterministic scenarios, or stress tests, are also calculated by the Commission:\n",
    "\n",
    "- **‘Lower SPB’ scenario**: the SPB is assumed to be reduced by 0.5 pp. of GDP in total, with a reduction of 0.25 pp. each year over the first two years, and to remain at that level afterwards (apart from changes in the cost of ageing – see below).\n",
    "- **‘Adverse r-g’ scenario**: the interest/growth-rate differential is assumed to be permanently increased by 1 percentage point.\n",
    "- **‘Financial stress’ scenario**: market interest rates are assumed to temporarily increase for one year by 1 pp., plus a risk premium for high-debt countries.\n",
    "\n",
    "These adverse scenarios are assumed for ten years after the end of the adjustment period. The DSA criterion requires the public debt to GDP ratio to decline under these adverse scenarios.\n",
    "\n",
    "#### Data Sources\n",
    "\n",
    "- Shares of euro-denominated debt are calculated based on ECB data.\n",
    "- Exchange rates are taken from Eurostat. Both variables are assumed to remain constant over the projection horizon.\n",
    "- Stock-flow adjustments are taken from the AMECO database and based on projections by the European Commission’s DG ECFIN, available up to 2025. From 2026, stock-flow adjustments are assumed to be zero for all but three EU countries (Finland, Luxembourg, and Greece, see [DSM 2023 Section II.2](https://economy-finance.ec.europa.eu/publications/debt-sustainability-monitor-2023_en) for details).\n",
    "- Nominal GDP growth, the primary balance, and the implicit interest rate on government debt are endogenous model variables. They build on medium-term real growth, output gap, and GDP-deflator projections by the European Commission’s Output Gap Working Group, long-term growth and ageing-cost projections based on the European Commission’s 2024 Ageing report, long-term market expectations for inflation from Bloomberg, structural primary balance projections from the AMECO database, fiscal multiplier data based on Carnot and de Castro (2015), and budget balance semi-elasticities based on Mourre et al. (2019).\n",
    "\n",
    "The projection of the implicit interest rate on government debt further relies on ECB data on government debt stocks, shares of short- and long-term debt issuance, and average annual debt redemption, as well as market expectations for interest rates from Bloomberg. All data sources are described in detail in the [SOURCES.xlsx](..\\data\\SOURCES.xlsx) file found in the data folder of the accompanying GitHub repository.\n",
    "\n",
    "#### Projecting Nominal Growth\n",
    "\n",
    "The effect of fiscal stimulus and the cyclical dependence of the budget balance makes growth and primary balance projections mutually dependent. These dependencies affect the variables from the beginning of the adjustment period in 2025. Prior to the adjustment period, i.e. up to 2024, the model relies directly on projections for the primary balance and nominal growth taken from the AMECO database. From 2025, real growth is affected by annual adjustments of the structural primary balance. Specifically, in a given year, the effect of the fiscal multiplier effect is proportional to annual adjustments in the structural primary balance relative to its baseline trajectory:\n",
    "\n",
    "$$ \n",
    "m_t = 0.75 \\times (\\Delta \\text{spb}_t - \\Delta \\text{spb}_t^{BL}) \n",
    "$$\n",
    "\n",
    "Here, 0.75 is the fiscal multiplier of Carnot and de Castro (2015) and $\\Delta \\text{spb}_t^{BL}$ denotes the annual change in baseline structural primary balance, which is based on the DG ECFIN projections up to 2024 and held constant thereafter. The multiplier $m_t$ affects real growth via its persistent effect on the output gap, narrowing the output gap by $m_t$ in the year of the adjustment $t$, and reducing its impact by one-third of its initial effect in the two consecutive periods. Thus, the total impact on the output gap in a particular year is the sum of the impact in that year plus 2/3 of the impact from the previous year plus 1/3 of the impact from two years before.\n",
    "\n",
    "For euro area countries, Bulgaria, Czechia, Denmark, and Sweden, inflation numbers used to compute nominal growth rates are based on the European Commission’s forecast up to 2025 (GDP deflator), which are linearly interpolated with market expectations for 2033 implied by euro area inflation swaps (HICP), before converging to the 2 percent HICP inflation targets of these countries by 2053, in line with the Commission’s methodology. For Hungary, Poland, and Romania, where the central banks have higher than 2 percent inflation target, the Commission’s methodology assumes that half of the spread vis-à-vis euro area inflation expected in 2025 remains by 2033, which in turn gradually converges to the national inflation targets by 2053.\n",
    "\n",
    "#### Projecting the Primary Balance\n",
    "\n",
    "The primary balance ratio is the sum of the structural primary balance ratio, a cyclical component, a property income component, and an ageing cost component. Importantly, the latter component, ageing costs net of pension tax revenues, is not separated out during the adjustment period. After the end of the adjustment period, it is assumed that the structural primary balance without the change in ageing costs remains the same, thus, the change in ageing costs changes the structural primary balance after the end of the adjustment period. Ageing costs and pension tax revenues are based on the European Commission’s 2024 Ageing report. The cyclical component is defined as the product of country-specific budget balance elasticities and the output gap.\n",
    "\n",
    "#### Projecting the Implicit (Average) Interest Rate\n",
    "\n",
    "The implicit (average) interest rate on the public debt stock, $\\text{iir}_t$, is projected as the weighted average of the short-term market interest rate $i_t^{ST}$ and the long-term implicit interest rate $\\text{iir}_t^{LT}$:\n",
    "\n",
    "$$ \n",
    "\\text{iir}_t = \\alpha_{t-1} \\cdot i_t^{ST} + (1 - \\alpha_{t-1}) \\cdot \\text{iir}_t^{LT} \n",
    "$$\n",
    "\n",
    "Here, $\\alpha_{t-1}$ is the share of short-term debt in the total debt stock in $t-1$ and $\\text{iir}_t^{LT}$ is projected as the weighted average of the long-term market rate $i_t^{LT}$ and the long-term implicit market interest rate in $t-1$:\n",
    "\n",
    "$$ \n",
    "\\text{iir}_t^{LT} = \\beta_{t-1} \\cdot i_t^{LT} + (1 - \\beta_{t-1}) \\cdot \\text{iir}_{t-1}^{LT} \n",
    "$$\n",
    "\n",
    "where $\\beta_{t-1}$ is the share of new long-term debt issuance in total long-term debt stock in $t-1$. Long-term market rates are projected by linearly interpolating from Bloomberg 10-year government bond benchmark rates to 10Y10Y forward rates. Between T+10 and T+30, long-term market rates converge linearly to 2 percent plus national inflation targets, which yields 4.5 percent for Poland and Romania, 5 percent for Hungary, and 4 percent for all other countries. Short-term market rates are calculated using 3 months benchmark rates, 3M10Y forward rates, and 0.5 times the country-specific values for the long-term rate in T+30.\n",
    "\n",
    "To project the implicit interest rate forward, we calculate the new issuance and total stock of short-term and long-term debt in each period $t$. Gross financing needs, i.e. the size of new issuance, are the sum of all interest and amortization payments, and the primary balance. Here, interest on short-term debt is the product of short-term market rates and the stock of short-term debt in $t-1$. Interest on long-term debt is the product"
   ]
  },
  {
   "cell_type": "markdown",
   "metadata": {},
   "source": [
    "## Tutorial\n",
    "This section introduces some of the functionalities of the DsaModel class and the StochasticDsaModel class."
   ]
  },
  {
   "cell_type": "code",
   "execution_count": 21,
   "metadata": {},
   "outputs": [
    {
     "name": "stdout",
     "output_type": "stream",
     "text": [
      "The autoreload extension is already loaded. To reload it, use:\n",
      "  %reload_ext autoreload\n"
     ]
    }
   ],
   "source": [
    "# Import libraries and modules\n",
    "import numpy as np\n",
    "import pandas as pd\n",
    "pd.options.display.float_format = \"{:,.3f}\".format\n",
    "import matplotlib.pyplot as plt\n",
    "import seaborn as sns\n",
    "sns.set_style('whitegrid')\n",
    "\n",
    "# Import DSA model class and stochastic subclass\n",
    "from classes import *\n",
    "from functions import *\n",
    "\n",
    "# Set autoreleoad\n",
    "%load_ext autoreload\n",
    "%autoreload 2"
   ]
  },
  {
   "cell_type": "markdown",
   "metadata": {},
   "source": [
    "### Initializing the DSA model and projecting the debt ratio"
   ]
  },
  {
   "cell_type": "markdown",
   "metadata": {},
   "source": [
    "Initialize model with country ISO code and adjustment period length. For deterministic projections the parent class \"DsaModel\" can be used, although I recommend always calling the StochasticDsaModel class to have access to all functionalities."
   ]
  },
  {
   "cell_type": "code",
   "execution_count": 17,
   "metadata": {},
   "outputs": [],
   "source": [
    "bel_dsa4 = DsaModel(country='BEL', adjustment_period=4)"
   ]
  },
  {
   "cell_type": "markdown",
   "metadata": {},
   "source": [
    "Model functions (methods) and variables (attributes) can be inspected by typing the class name, followed by the attribute name. \\\n",
    "Explore the DsaModelClass and the StochasticDsaModelClass python files to see which attributes and methods exist."
   ]
  },
  {
   "cell_type": "code",
   "execution_count": 18,
   "metadata": {},
   "outputs": [
    {
     "data": {
      "text/plain": [
       "array([25.11216836, 25.35902661, 25.30438211, 25.42929057, 25.60866998,\n",
       "       25.72537935, 25.86872455, 25.80469106, 25.93176262, 26.01668618,\n",
       "       26.10791039, 26.1841957 , 26.30936245, 26.40669419, 26.52080311,\n",
       "       26.594857  , 26.68438292, 26.72071055, 26.80365452, 26.84497823,\n",
       "       26.94859525, 27.02029991, 27.15116563, 27.23184868, 27.36570423,\n",
       "       27.44523852, 27.56918723, 27.64303992, 27.75526931, 27.82627099,\n",
       "       27.94471488, 28.02307079, 28.14872417, 28.22890923, 28.35022875,\n",
       "       28.41932622, 28.52620324, 28.58020844, 28.6788269 , 28.73220022,\n",
       "       28.83952431, 28.90131935, 29.01595248, 29.08404081, 29.21529306,\n",
       "       29.30357521, 29.44872925, 29.5572773 ])"
      ]
     },
     "execution_count": 18,
     "metadata": {},
     "output_type": "execute_result"
    }
   ],
   "source": [
    "bel_dsa4.ageing_cost"
   ]
  },
  {
   "cell_type": "markdown",
   "metadata": {},
   "source": [
    "We can project the debt ratio forward, assuming linear adjustment to a structural primary balance target using the \"project\" method. \\\n",
    "To project the model under specific scenario assumptions, pass the scenario name as a string. Deterministic scenarios are \"main_adjustment\", \"adverse_r_g\", \"financial_stress\", and \"lower_spb\"."
   ]
  },
  {
   "cell_type": "code",
   "execution_count": 19,
   "metadata": {},
   "outputs": [],
   "source": [
    "bel_dsa4.project(spb_target=1.6, scenario='financial_stress')"
   ]
  },
  {
   "cell_type": "markdown",
   "metadata": {},
   "source": [
    "For non-linear adjustment paths, for example due to an Excessive Deficit Procedure, we can specify each ajdustment step individually via the \"adjustment_steps\" attribute. \\\n",
    "Instead of specifying the steps manually, we can also call the \"find_edp\" method, which finds the number of periods in which, given the current SPB target, the minimum adjustment of 0.5% under the EDP is binding. The resulting minimum adjustment steps are updated automatically and saved in the \"edp_steps\" attribute. In cases where the entire adjustment period is needed to reach the 3% deficit targets, the adjustment step size is increased."
   ]
  },
  {
   "cell_type": "code",
   "execution_count": 22,
   "metadata": {},
   "outputs": [
    {
     "data": {
      "text/plain": [
       "array([0.5, 0.5, 0.5, 0. ])"
      ]
     },
     "execution_count": 22,
     "metadata": {},
     "output_type": "execute_result"
    }
   ],
   "source": [
    "adjustment_steps = np.array([0.5, 0.5, 0.5, 0])\n",
    "bel_dsa4.project(adjustment_steps=adjustment_steps,\n",
    "                scenario='main_adjustment')\n",
    "bel_dsa4.adjustment_steps"
   ]
  },
  {
   "cell_type": "markdown",
   "metadata": {},
   "source": [
    "We can show the resulting debt ratio and primary balance path using the \"df\" method. \\\n",
    "The \"df\" method takes strings of the model variables or a dictionary with model variables and desired column names as input argument and returns a pandas dataframe. If the method is called without specified variables, it returns a dataframe with the structural primary balance, the overall balance, and the debt ratio. "
   ]
  },
  {
   "cell_type": "code",
   "execution_count": 23,
   "metadata": {},
   "outputs": [
    {
     "data": {
      "text/html": [
       "<div>\n",
       "<style scoped>\n",
       "    .dataframe tbody tr th:only-of-type {\n",
       "        vertical-align: middle;\n",
       "    }\n",
       "\n",
       "    .dataframe tbody tr th {\n",
       "        vertical-align: top;\n",
       "    }\n",
       "\n",
       "    .dataframe thead th {\n",
       "        text-align: right;\n",
       "    }\n",
       "</style>\n",
       "<table border=\"1\" class=\"dataframe\">\n",
       "  <thead>\n",
       "    <tr style=\"text-align: right;\">\n",
       "      <th></th>\n",
       "      <th></th>\n",
       "      <th>d</th>\n",
       "      <th>ob</th>\n",
       "      <th>sb</th>\n",
       "      <th>spb_bca</th>\n",
       "      <th>spb_bca_adjustment</th>\n",
       "    </tr>\n",
       "    <tr>\n",
       "      <th>t</th>\n",
       "      <th>y</th>\n",
       "      <th></th>\n",
       "      <th></th>\n",
       "      <th></th>\n",
       "      <th></th>\n",
       "      <th></th>\n",
       "    </tr>\n",
       "  </thead>\n",
       "  <tbody>\n",
       "    <tr>\n",
       "      <th>1</th>\n",
       "      <th>2024</th>\n",
       "      <td>104.804</td>\n",
       "      <td>-4.263</td>\n",
       "      <td>-4.023</td>\n",
       "      <td>-1.869</td>\n",
       "      <td>0.309</td>\n",
       "    </tr>\n",
       "    <tr>\n",
       "      <th>2</th>\n",
       "      <th>2025</th>\n",
       "      <td>106.303</td>\n",
       "      <td>-4.273</td>\n",
       "      <td>-3.631</td>\n",
       "      <td>-1.369</td>\n",
       "      <td>0.500</td>\n",
       "    </tr>\n",
       "    <tr>\n",
       "      <th>3</th>\n",
       "      <th>2026</th>\n",
       "      <td>106.532</td>\n",
       "      <td>-3.912</td>\n",
       "      <td>-3.253</td>\n",
       "      <td>-0.869</td>\n",
       "      <td>0.500</td>\n",
       "    </tr>\n",
       "    <tr>\n",
       "      <th>4</th>\n",
       "      <th>2027</th>\n",
       "      <td>106.311</td>\n",
       "      <td>-3.448</td>\n",
       "      <td>-2.850</td>\n",
       "      <td>-0.369</td>\n",
       "      <td>0.500</td>\n",
       "    </tr>\n",
       "    <tr>\n",
       "      <th>5</th>\n",
       "      <th>2028</th>\n",
       "      <td>105.340</td>\n",
       "      <td>-3.151</td>\n",
       "      <td>-2.921</td>\n",
       "      <td>-0.369</td>\n",
       "      <td>0.000</td>\n",
       "    </tr>\n",
       "    <tr>\n",
       "      <th>6</th>\n",
       "      <th>2029</th>\n",
       "      <td>104.837</td>\n",
       "      <td>-3.212</td>\n",
       "      <td>-3.135</td>\n",
       "      <td>-0.369</td>\n",
       "      <td>0.000</td>\n",
       "    </tr>\n",
       "  </tbody>\n",
       "</table>\n",
       "</div>"
      ],
      "text/plain": [
       "             d     ob     sb  spb_bca  spb_bca_adjustment\n",
       "t y                                                      \n",
       "1 2024 104.804 -4.263 -4.023   -1.869               0.309\n",
       "2 2025 106.303 -4.273 -3.631   -1.369               0.500\n",
       "3 2026 106.532 -3.912 -3.253   -0.869               0.500\n",
       "4 2027 106.311 -3.448 -2.850   -0.369               0.500\n",
       "5 2028 105.340 -3.151 -2.921   -0.369               0.000\n",
       "6 2029 104.837 -3.212 -3.135   -0.369               0.000"
      ]
     },
     "execution_count": 23,
     "metadata": {},
     "output_type": "execute_result"
    }
   ],
   "source": [
    "bel_dsa4.df().iloc[1:7]"
   ]
  },
  {
   "cell_type": "markdown",
   "metadata": {},
   "source": [
    "If the df method is called with parameter \"all\" set to \"True\", a preset list of variables will be included. The included variables are listed below."
   ]
  },
  {
   "cell_type": "code",
   "execution_count": 24,
   "metadata": {},
   "outputs": [
    {
     "data": {
      "text/plain": [
       "Index(['d', 'spb_bca', 'spb_bca_adjustment', 'spb', 'pb', 'ob', 'sb',\n",
       "       'ageing_component', 'cyclical_component', 'interest_ratio',\n",
       "       'ageing_cost', 'rg', 'rg_pot', 'ng', 'output_gap', 'pi', 'rgdp_pot',\n",
       "       'rgdp', 'ngdp', 'i_st', 'i_lt', 'iir_lt', 'iir', 'sf', 'D', 'D_lt_esm',\n",
       "       'D_st', 'D_lt', 'repayment', 'repayment_lt', 'repayment_lt_esm',\n",
       "       'interest', 'interest_lt', 'interest_st'],\n",
       "      dtype='object')"
      ]
     },
     "execution_count": 24,
     "metadata": {},
     "output_type": "execute_result"
    }
   ],
   "source": [
    "bel_dsa4.df(all=True).columns"
   ]
  },
  {
   "cell_type": "markdown",
   "metadata": {},
   "source": [
    "### Deterministic Optimization"
   ]
  },
  {
   "cell_type": "markdown",
   "metadata": {},
   "source": [
    "The \"find_spb_deterministic\" optimizes for a structural primary balance at the end of the adjustment period that meets the specified deterministic scenario criterion. Additional parameters, like initial adjustment periods, that have been specified in the initial projection, are taken as given.\\\n",
    "The criterion can be any of 'main_adjustment', 'lower_spb', 'financial_stress', 'adverse_r_g', 'deficit_reduction', or 'debt_safeguard'. \\\n",
    "Note that the debt_safeguard is applied from the end of the Excessive Deficit Procedure. Because the end of the EDP may vary with the size of annual adjustments, the debt safeguard may produce a different target when applied by itself or after having optimized for other criteria. In our analysis, we apply the debt safeguard conditional on the toughest scenario path."
   ]
  },
  {
   "cell_type": "code",
   "execution_count": 25,
   "metadata": {},
   "outputs": [
    {
     "data": {
      "text/plain": [
       "1.0937999999998325"
      ]
     },
     "execution_count": 25,
     "metadata": {},
     "output_type": "execute_result"
    }
   ],
   "source": [
    "bel_dsa4.find_spb_deterministic(criterion='adverse_r_g')"
   ]
  },
  {
   "cell_type": "markdown",
   "metadata": {},
   "source": [
    "The model projections are updated automatically to the optimal SPB target and we can plot the resulting debt ratio projection, for example by using the \"df\" method and pandas' built-in plotting function.\\\n",
    "Here we plot the ageing-cost adjusted structural primary balance, as well as the structural primary balance that includes ageing costs, the overall balance, and the debt ratio."
   ]
  },
  {
   "cell_type": "code",
   "execution_count": 26,
   "metadata": {},
   "outputs": [
    {
     "data": {
      "text/plain": [
       "<Axes: title={'center': 'Belgium: Debt ratio and balance'}, xlabel='(t, Year)'>"
      ]
     },
     "execution_count": 26,
     "metadata": {},
     "output_type": "execute_result"
    },
    {
     "data": {
      "image/png": "[encoded data removed]",
      "text/plain": [
       "<Figure size 1000x600 with 2 Axes>"
      ]
     },
     "metadata": {},
     "output_type": "display_data"
    }
   ],
   "source": [
    "bel_dsa4.df('spb_bca', 'spb',  'ob', 'd').plot(\n",
    "    title='Belgium: Debt ratio and balance', \n",
    "    secondary_y=['spb', 'spb_bca', 'ob'], \n",
    "    ylabel='Percent of GDP', \n",
    "    xlabel='(t, Year)', \n",
    "    legend=True, \n",
    "    figsize=(10, 6))"
   ]
  },
  {
   "cell_type": "markdown",
   "metadata": {},
   "source": [
    "### Stochastic Optimization"
   ]
  },
  {
   "cell_type": "markdown",
   "metadata": {},
   "source": [
    "The StochasticDsaModel class is a subclass of the DsaModel and inherits all its functionalities. It is initiated analogously.\n",
    "\n",
    "The latest update introuces a number of addiitonal parameters that can be altered to test model assumptions. These include:\n",
    "- \"ageing_cost_period\" to specify the post-adjustment window during which ageing costs are seperated out from SPB \n",
    "- \"shock_frequency\" to specify the underlying shock data frequenct as \"quarterly\" or annual\"\n",
    "- \"shock_sample_start\" for the start of the sampled shock data\n",
    "- \"stochastic_start_year\" for the start of the fanchart, ie the period form which unceirtainty is incorporated into projections"
   ]
  },
  {
   "cell_type": "code",
   "execution_count": 43,
   "metadata": {},
   "outputs": [],
   "source": [
    "esp_sdsa7 = StochasticDsaModel(country='ESP', adjustment_period=7)"
   ]
  },
  {
   "cell_type": "markdown",
   "metadata": {},
   "source": [
    "After projecting the debt path, the \"simulate\" method simulates N projections based on shocks to growth, interest rate, exchange rate, and primary balance."
   ]
  },
  {
   "cell_type": "code",
   "execution_count": 44,
   "metadata": {},
   "outputs": [],
   "source": [
    "esp_sdsa7.project()\n",
    "esp_sdsa7.simulate(N=100000)"
   ]
  },
  {
   "cell_type": "markdown",
   "metadata": {},
   "source": [
    "The \"fanchart\" method plots the percentiles of the simulated distribution of the debt ratio. If the save_df option is specified, we can access the underlying percentile data as new model attribute. The period parameter determines the number of projection periods. The Commission methodology uses 5."
   ]
  },
  {
   "cell_type": "code",
   "execution_count": 45,
   "metadata": {},
   "outputs": [
    {
     "data": {
      "image/png": "[encoded data removed]",
      "text/plain": [
       "<Figure size 1000x600 with 1 Axes>"
      ]
     },
     "metadata": {},
     "output_type": "display_data"
    }
   ],
   "source": [
    "esp_sdsa7.fanchart(variable='d', periods=10)"
   ]
  },
  {
   "cell_type": "code",
   "execution_count": 46,
   "metadata": {},
   "outputs": [
    {
     "data": {
      "text/html": [
       "<div>\n",
       "<style scoped>\n",
       "    .dataframe tbody tr th:only-of-type {\n",
       "        vertical-align: middle;\n",
       "    }\n",
       "\n",
       "    .dataframe tbody tr th {\n",
       "        vertical-align: top;\n",
       "    }\n",
       "\n",
       "    .dataframe thead th {\n",
       "        text-align: right;\n",
       "    }\n",
       "</style>\n",
       "<table border=\"1\" class=\"dataframe\">\n",
       "  <thead>\n",
       "    <tr style=\"text-align: right;\">\n",
       "      <th></th>\n",
       "      <th>year</th>\n",
       "      <th>baseline</th>\n",
       "      <th>p10</th>\n",
       "      <th>p20</th>\n",
       "      <th>p30</th>\n",
       "      <th>p40</th>\n",
       "      <th>p50</th>\n",
       "      <th>p60</th>\n",
       "      <th>p70</th>\n",
       "      <th>p80</th>\n",
       "      <th>p90</th>\n",
       "    </tr>\n",
       "  </thead>\n",
       "  <tbody>\n",
       "    <tr>\n",
       "      <th>8</th>\n",
       "      <td>2031</td>\n",
       "      <td>105.183</td>\n",
       "      <td>105.183</td>\n",
       "      <td>105.183</td>\n",
       "      <td>105.183</td>\n",
       "      <td>105.183</td>\n",
       "      <td>105.183</td>\n",
       "      <td>105.183</td>\n",
       "      <td>105.183</td>\n",
       "      <td>105.183</td>\n",
       "      <td>105.183</td>\n",
       "    </tr>\n",
       "    <tr>\n",
       "      <th>9</th>\n",
       "      <td>2032</td>\n",
       "      <td>106.343</td>\n",
       "      <td>101.624</td>\n",
       "      <td>103.234</td>\n",
       "      <td>104.412</td>\n",
       "      <td>105.415</td>\n",
       "      <td>106.350</td>\n",
       "      <td>107.307</td>\n",
       "      <td>108.316</td>\n",
       "      <td>109.522</td>\n",
       "      <td>111.192</td>\n",
       "    </tr>\n",
       "    <tr>\n",
       "      <th>10</th>\n",
       "      <td>2033</td>\n",
       "      <td>107.944</td>\n",
       "      <td>101.256</td>\n",
       "      <td>103.547</td>\n",
       "      <td>105.200</td>\n",
       "      <td>106.614</td>\n",
       "      <td>107.976</td>\n",
       "      <td>109.333</td>\n",
       "      <td>110.780</td>\n",
       "      <td>112.517</td>\n",
       "      <td>114.949</td>\n",
       "    </tr>\n",
       "    <tr>\n",
       "      <th>11</th>\n",
       "      <td>2034</td>\n",
       "      <td>109.873</td>\n",
       "      <td>101.645</td>\n",
       "      <td>104.426</td>\n",
       "      <td>106.461</td>\n",
       "      <td>108.218</td>\n",
       "      <td>109.905</td>\n",
       "      <td>111.563</td>\n",
       "      <td>113.385</td>\n",
       "      <td>115.549</td>\n",
       "      <td>118.574</td>\n",
       "    </tr>\n",
       "    <tr>\n",
       "      <th>12</th>\n",
       "      <td>2035</td>\n",
       "      <td>111.988</td>\n",
       "      <td>102.401</td>\n",
       "      <td>105.612</td>\n",
       "      <td>107.992</td>\n",
       "      <td>110.057</td>\n",
       "      <td>112.006</td>\n",
       "      <td>113.991</td>\n",
       "      <td>116.151</td>\n",
       "      <td>118.683</td>\n",
       "      <td>122.219</td>\n",
       "    </tr>\n",
       "    <tr>\n",
       "      <th>13</th>\n",
       "      <td>2036</td>\n",
       "      <td>114.241</td>\n",
       "      <td>103.294</td>\n",
       "      <td>107.003</td>\n",
       "      <td>109.709</td>\n",
       "      <td>112.073</td>\n",
       "      <td>114.312</td>\n",
       "      <td>116.552</td>\n",
       "      <td>119.020</td>\n",
       "      <td>121.881</td>\n",
       "      <td>125.912</td>\n",
       "    </tr>\n",
       "    <tr>\n",
       "      <th>14</th>\n",
       "      <td>2037</td>\n",
       "      <td>116.587</td>\n",
       "      <td>104.362</td>\n",
       "      <td>108.462</td>\n",
       "      <td>111.506</td>\n",
       "      <td>114.133</td>\n",
       "      <td>116.622</td>\n",
       "      <td>119.152</td>\n",
       "      <td>121.946</td>\n",
       "      <td>125.191</td>\n",
       "      <td>129.692</td>\n",
       "    </tr>\n",
       "    <tr>\n",
       "      <th>15</th>\n",
       "      <td>2038</td>\n",
       "      <td>119.106</td>\n",
       "      <td>105.522</td>\n",
       "      <td>110.149</td>\n",
       "      <td>113.490</td>\n",
       "      <td>116.405</td>\n",
       "      <td>119.187</td>\n",
       "      <td>122.025</td>\n",
       "      <td>125.075</td>\n",
       "      <td>128.708</td>\n",
       "      <td>133.917</td>\n",
       "    </tr>\n",
       "    <tr>\n",
       "      <th>16</th>\n",
       "      <td>2039</td>\n",
       "      <td>121.767</td>\n",
       "      <td>106.691</td>\n",
       "      <td>111.787</td>\n",
       "      <td>115.529</td>\n",
       "      <td>118.763</td>\n",
       "      <td>121.844</td>\n",
       "      <td>124.976</td>\n",
       "      <td>128.415</td>\n",
       "      <td>132.524</td>\n",
       "      <td>138.380</td>\n",
       "    </tr>\n",
       "    <tr>\n",
       "      <th>17</th>\n",
       "      <td>2040</td>\n",
       "      <td>124.518</td>\n",
       "      <td>107.757</td>\n",
       "      <td>113.365</td>\n",
       "      <td>117.567</td>\n",
       "      <td>121.168</td>\n",
       "      <td>124.688</td>\n",
       "      <td>128.167</td>\n",
       "      <td>132.028</td>\n",
       "      <td>136.605</td>\n",
       "      <td>143.266</td>\n",
       "    </tr>\n",
       "    <tr>\n",
       "      <th>18</th>\n",
       "      <td>2041</td>\n",
       "      <td>127.615</td>\n",
       "      <td>108.950</td>\n",
       "      <td>115.188</td>\n",
       "      <td>119.788</td>\n",
       "      <td>123.824</td>\n",
       "      <td>127.711</td>\n",
       "      <td>131.685</td>\n",
       "      <td>136.026</td>\n",
       "      <td>141.316</td>\n",
       "      <td>148.761</td>\n",
       "    </tr>\n",
       "  </tbody>\n",
       "</table>\n",
       "</div>"
      ],
      "text/plain": [
       "    year  baseline     p10     p20     p30     p40     p50     p60     p70  \\\n",
       "8   2031   105.183 105.183 105.183 105.183 105.183 105.183 105.183 105.183   \n",
       "9   2032   106.343 101.624 103.234 104.412 105.415 106.350 107.307 108.316   \n",
       "10  2033   107.944 101.256 103.547 105.200 106.614 107.976 109.333 110.780   \n",
       "11  2034   109.873 101.645 104.426 106.461 108.218 109.905 111.563 113.385   \n",
       "12  2035   111.988 102.401 105.612 107.992 110.057 112.006 113.991 116.151   \n",
       "13  2036   114.241 103.294 107.003 109.709 112.073 114.312 116.552 119.020   \n",
       "14  2037   116.587 104.362 108.462 111.506 114.133 116.622 119.152 121.946   \n",
       "15  2038   119.106 105.522 110.149 113.490 116.405 119.187 122.025 125.075   \n",
       "16  2039   121.767 106.691 111.787 115.529 118.763 121.844 124.976 128.415   \n",
       "17  2040   124.518 107.757 113.365 117.567 121.168 124.688 128.167 132.028   \n",
       "18  2041   127.615 108.950 115.188 119.788 123.824 127.711 131.685 136.026   \n",
       "\n",
       "       p80     p90  \n",
       "8  105.183 105.183  \n",
       "9  109.522 111.192  \n",
       "10 112.517 114.949  \n",
       "11 115.549 118.574  \n",
       "12 118.683 122.219  \n",
       "13 121.881 125.912  \n",
       "14 125.191 129.692  \n",
       "15 128.708 133.917  \n",
       "16 132.524 138.380  \n",
       "17 136.605 143.266  \n",
       "18 141.316 148.761  "
      ]
     },
     "execution_count": 46,
     "metadata": {},
     "output_type": "execute_result"
    }
   ],
   "source": [
    "esp_sdsa7.df_fanchart.dropna()"
   ]
  },
  {
   "cell_type": "markdown",
   "metadata": {},
   "source": [
    "The \"find_spb_stochastic\" method optimizes for the primary balance path that ensures no more than 30% of simulated debt ratio paths are increasing. The probability target and the period over whcih the fanchart and the criterion are applied can be changed from their default values."
   ]
  },
  {
   "cell_type": "code",
   "execution_count": 47,
   "metadata": {},
   "outputs": [
    {
     "data": {
      "text/plain": [
       "1.9022105538272736"
      ]
     },
     "execution_count": 47,
     "metadata": {},
     "output_type": "execute_result"
    }
   ],
   "source": [
    "esp_sdsa7.find_spb_stochastic(prob_target=0.3, stochastic_criterion_period=5)"
   ]
  },
  {
   "cell_type": "markdown",
   "metadata": {},
   "source": [
    "### Integrated optimization"
   ]
  },
  {
   "cell_type": "markdown",
   "metadata": {},
   "source": [
    "To quickly calculate all scenarios and detmerine which is binding, we can call the \"find_spb_binding\" method. Note that this method is only available after initalizing a stochastic model. \\\n",
    "The method determines optimal SPB targets for all deterministic and stochastic DSA criteria, as well as for the 3% deficit criteria. If no spcified differently, the method then checks whether the EDP or either of the two safeguards, the debt and the deficit resilience safeguard, are violated and corrects the binding SPB target accordingly."
   ]
  },
  {
   "cell_type": "code",
   "execution_count": 48,
   "metadata": {},
   "outputs": [
    {
     "name": "stdout",
     "output_type": "stream",
     "text": [
      "\n",
      "________________________ Optimizing ESP 7-year ________________________\n",
      "SPB*: 2.7778999999998115 (adverse_r_g)\n",
      "EDP not binding\n",
      "Debt safeguard not binding\n",
      "Deficit resilience safeguard not binding during adjustment period\n",
      "SPB post-adjustment: 1.419425546943073\n"
     ]
    },
    {
     "data": {
      "text/plain": [
       "'Binding SPB target: 2.7778999999998115 (adverse_r_g)'"
      ]
     },
     "execution_count": 48,
     "metadata": {},
     "output_type": "execute_result"
    }
   ],
   "source": [
    "esp_sdsa7.find_spb_binding(\n",
    "    save_df=True, \n",
    "    edp=True, \n",
    "    debt_safeguard=True, \n",
    "    deficit_resilience=True, \n",
    "    deficit_resilience_post_adjustment=True\n",
    "    )"
   ]
  },
  {
   "cell_type": "markdown",
   "metadata": {},
   "source": [
    "The \"find_spb_binding\" method saves a dictionaries with the binding targets and timeseries for all scenarios. In addition, it saves the projection parameters of the binding scenario for quick replication."
   ]
  },
  {
   "cell_type": "code",
   "execution_count": 49,
   "metadata": {},
   "outputs": [
    {
     "data": {
      "text/plain": [
       "{'main_adjustment': 2.10979999999983,\n",
       " 'lower_spb': 2.6006999999998004,\n",
       " 'financial_stress': 2.148999999999827,\n",
       " 'adverse_r_g': 2.7778999999998115,\n",
       " 'deficit_reduction': 2.2566999999998205,\n",
       " 'stochastic': 1.901660528129993,\n",
       " 'post_adjustment': 1.419425546943073,\n",
       " 'binding': 2.7778999999998115}"
      ]
     },
     "execution_count": 49,
     "metadata": {},
     "output_type": "execute_result"
    }
   ],
   "source": [
    "esp_sdsa7.spb_target_dict"
   ]
  },
  {
   "cell_type": "code",
   "execution_count": 50,
   "metadata": {},
   "outputs": [
    {
     "data": {
      "text/html": [
       "<div>\n",
       "<style scoped>\n",
       "    .dataframe tbody tr th:only-of-type {\n",
       "        vertical-align: middle;\n",
       "    }\n",
       "\n",
       "    .dataframe tbody tr th {\n",
       "        vertical-align: top;\n",
       "    }\n",
       "\n",
       "    .dataframe thead th {\n",
       "        text-align: right;\n",
       "    }\n",
       "</style>\n",
       "<table border=\"1\" class=\"dataframe\">\n",
       "  <thead>\n",
       "    <tr style=\"text-align: right;\">\n",
       "      <th></th>\n",
       "      <th></th>\n",
       "      <th>d</th>\n",
       "      <th>spb_bca</th>\n",
       "      <th>spb_bca_adjustment</th>\n",
       "      <th>spb</th>\n",
       "      <th>pb</th>\n",
       "      <th>ob</th>\n",
       "      <th>sb</th>\n",
       "      <th>ageing_component</th>\n",
       "      <th>cyclical_component</th>\n",
       "      <th>interest_ratio</th>\n",
       "      <th>...</th>\n",
       "      <th>D</th>\n",
       "      <th>D_lt_esm</th>\n",
       "      <th>D_st</th>\n",
       "      <th>D_lt</th>\n",
       "      <th>repayment</th>\n",
       "      <th>repayment_lt</th>\n",
       "      <th>repayment_lt_esm</th>\n",
       "      <th>interest</th>\n",
       "      <th>interest_lt</th>\n",
       "      <th>interest_st</th>\n",
       "    </tr>\n",
       "    <tr>\n",
       "      <th>t</th>\n",
       "      <th>y</th>\n",
       "      <th></th>\n",
       "      <th></th>\n",
       "      <th></th>\n",
       "      <th></th>\n",
       "      <th></th>\n",
       "      <th></th>\n",
       "      <th></th>\n",
       "      <th></th>\n",
       "      <th></th>\n",
       "      <th></th>\n",
       "      <th></th>\n",
       "      <th></th>\n",
       "      <th></th>\n",
       "      <th></th>\n",
       "      <th></th>\n",
       "      <th></th>\n",
       "      <th></th>\n",
       "      <th></th>\n",
       "      <th></th>\n",
       "      <th></th>\n",
       "      <th></th>\n",
       "    </tr>\n",
       "  </thead>\n",
       "  <tbody>\n",
       "    <tr>\n",
       "      <th>0</th>\n",
       "      <th>2023</th>\n",
       "      <td>107.652</td>\n",
       "      <td>-1.631</td>\n",
       "      <td>NaN</td>\n",
       "      <td>-1.631</td>\n",
       "      <td>-1.176</td>\n",
       "      <td>-3.636</td>\n",
       "      <td>NaN</td>\n",
       "      <td>0.000</td>\n",
       "      <td>0.455</td>\n",
       "      <td>NaN</td>\n",
       "      <td>...</td>\n",
       "      <td>1,573.800</td>\n",
       "      <td>-0.000</td>\n",
       "      <td>89.822</td>\n",
       "      <td>1,483.978</td>\n",
       "      <td>NaN</td>\n",
       "      <td>NaN</td>\n",
       "      <td>4.575</td>\n",
       "      <td>NaN</td>\n",
       "      <td>NaN</td>\n",
       "      <td>NaN</td>\n",
       "    </tr>\n",
       "    <tr>\n",
       "      <th>1</th>\n",
       "      <th>2024</th>\n",
       "      <td>105.229</td>\n",
       "      <td>-0.849</td>\n",
       "      <td>0.782</td>\n",
       "      <td>-0.849</td>\n",
       "      <td>-0.265</td>\n",
       "      <td>-2.788</td>\n",
       "      <td>-3.372</td>\n",
       "      <td>0.000</td>\n",
       "      <td>0.584</td>\n",
       "      <td>2.523</td>\n",
       "      <td>...</td>\n",
       "      <td>1,623.720</td>\n",
       "      <td>-4.575</td>\n",
       "      <td>92.671</td>\n",
       "      <td>1,531.049</td>\n",
       "      <td>221.170</td>\n",
       "      <td>131.348</td>\n",
       "      <td>4.575</td>\n",
       "      <td>38.895</td>\n",
       "      <td>35.964</td>\n",
       "      <td>2.931</td>\n",
       "    </tr>\n",
       "    <tr>\n",
       "      <th>2</th>\n",
       "      <th>2025</th>\n",
       "      <td>104.512</td>\n",
       "      <td>-0.331</td>\n",
       "      <td>0.518</td>\n",
       "      <td>-0.331</td>\n",
       "      <td>0.019</td>\n",
       "      <td>-2.542</td>\n",
       "      <td>-2.892</td>\n",
       "      <td>0.000</td>\n",
       "      <td>0.350</td>\n",
       "      <td>2.561</td>\n",
       "      <td>...</td>\n",
       "      <td>1,679.602</td>\n",
       "      <td>-8.218</td>\n",
       "      <td>95.861</td>\n",
       "      <td>1,583.742</td>\n",
       "      <td>227.484</td>\n",
       "      <td>134.813</td>\n",
       "      <td>3.643</td>\n",
       "      <td>41.068</td>\n",
       "      <td>37.872</td>\n",
       "      <td>3.196</td>\n",
       "    </tr>\n",
       "    <tr>\n",
       "      <th>3</th>\n",
       "      <th>2026</th>\n",
       "      <td>103.558</td>\n",
       "      <td>0.187</td>\n",
       "      <td>0.518</td>\n",
       "      <td>0.187</td>\n",
       "      <td>0.189</td>\n",
       "      <td>-2.487</td>\n",
       "      <td>-2.488</td>\n",
       "      <td>0.000</td>\n",
       "      <td>0.001</td>\n",
       "      <td>2.675</td>\n",
       "      <td>...</td>\n",
       "      <td>1,720.840</td>\n",
       "      <td>-11.861</td>\n",
       "      <td>98.214</td>\n",
       "      <td>1,622.626</td>\n",
       "      <td>235.577</td>\n",
       "      <td>139.716</td>\n",
       "      <td>3.643</td>\n",
       "      <td>44.365</td>\n",
       "      <td>41.074</td>\n",
       "      <td>3.291</td>\n",
       "    </tr>\n",
       "    <tr>\n",
       "      <th>4</th>\n",
       "      <th>2027</th>\n",
       "      <td>102.516</td>\n",
       "      <td>0.705</td>\n",
       "      <td>0.518</td>\n",
       "      <td>0.705</td>\n",
       "      <td>0.435</td>\n",
       "      <td>-2.323</td>\n",
       "      <td>-2.053</td>\n",
       "      <td>0.000</td>\n",
       "      <td>-0.270</td>\n",
       "      <td>2.758</td>\n",
       "      <td>...</td>\n",
       "      <td>1,760.644</td>\n",
       "      <td>-11.861</td>\n",
       "      <td>100.486</td>\n",
       "      <td>1,660.158</td>\n",
       "      <td>238.028</td>\n",
       "      <td>139.813</td>\n",
       "      <td>0.000</td>\n",
       "      <td>47.265</td>\n",
       "      <td>43.908</td>\n",
       "      <td>3.357</td>\n",
       "    </tr>\n",
       "  </tbody>\n",
       "</table>\n",
       "<p>5 rows × 34 columns</p>\n",
       "</div>"
      ],
      "text/plain": [
       "             d  spb_bca  spb_bca_adjustment    spb     pb     ob     sb  \\\n",
       "t y                                                                       \n",
       "0 2023 107.652   -1.631                 NaN -1.631 -1.176 -3.636    NaN   \n",
       "1 2024 105.229   -0.849               0.782 -0.849 -0.265 -2.788 -3.372   \n",
       "2 2025 104.512   -0.331               0.518 -0.331  0.019 -2.542 -2.892   \n",
       "3 2026 103.558    0.187               0.518  0.187  0.189 -2.487 -2.488   \n",
       "4 2027 102.516    0.705               0.518  0.705  0.435 -2.323 -2.053   \n",
       "\n",
       "        ageing_component  cyclical_component  interest_ratio  ...         D  \\\n",
       "t y                                                           ...             \n",
       "0 2023             0.000               0.455             NaN  ... 1,573.800   \n",
       "1 2024             0.000               0.584           2.523  ... 1,623.720   \n",
       "2 2025             0.000               0.350           2.561  ... 1,679.602   \n",
       "3 2026             0.000               0.001           2.675  ... 1,720.840   \n",
       "4 2027             0.000              -0.270           2.758  ... 1,760.644   \n",
       "\n",
       "        D_lt_esm    D_st      D_lt  repayment  repayment_lt  repayment_lt_esm  \\\n",
       "t y                                                                             \n",
       "0 2023    -0.000  89.822 1,483.978        NaN           NaN             4.575   \n",
       "1 2024    -4.575  92.671 1,531.049    221.170       131.348             4.575   \n",
       "2 2025    -8.218  95.861 1,583.742    227.484       134.813             3.643   \n",
       "3 2026   -11.861  98.214 1,622.626    235.577       139.716             3.643   \n",
       "4 2027   -11.861 100.486 1,660.158    238.028       139.813             0.000   \n",
       "\n",
       "        interest  interest_lt  interest_st  \n",
       "t y                                         \n",
       "0 2023       NaN          NaN          NaN  \n",
       "1 2024    38.895       35.964        2.931  \n",
       "2 2025    41.068       37.872        3.196  \n",
       "3 2026    44.365       41.074        3.291  \n",
       "4 2027    47.265       43.908        3.357  \n",
       "\n",
       "[5 rows x 34 columns]"
      ]
     },
     "execution_count": 50,
     "metadata": {},
     "output_type": "execute_result"
    }
   ],
   "source": [
    "esp_sdsa7.df_dict['binding'].head()"
   ]
  },
  {
   "cell_type": "code",
   "execution_count": 51,
   "metadata": {},
   "outputs": [
    {
     "data": {
      "text/plain": [
       "{'adjustment_steps': array([0.51812857, 0.51812857, 0.51812857, 0.51812857, 0.51812857,\n",
       "        0.51812857, 0.51812857]),\n",
       " 'spb_target': 2.7778999999998115,\n",
       " 'criterion': 'adverse_r_g',\n",
       " 'edp_binding': False,\n",
       " 'edp_steps': array([nan, nan, nan, nan, nan, nan, nan]),\n",
       " 'deficit_resilience_steps': array([nan, nan, nan, nan, nan, nan, nan]),\n",
       " 'post_adjustment_steps': array([0.   , 0.   , 0.   , 0.   , 0.   , 0.028, 0.18 , 0.171, 0.142,\n",
       "        0.173, 0.   , 0.   , 0.   , 0.   , 0.   , 0.   , 0.   , 0.   ,\n",
       "        0.   , 0.   , 0.   , 0.   , 0.   , 0.   , 0.   , 0.   , 0.   ,\n",
       "        0.   , 0.   , 0.   , 0.   , 0.   , 0.   , 0.   , 0.   , 0.   ,\n",
       "        0.   , 0.   , 0.   ])}"
      ]
     },
     "execution_count": 51,
     "metadata": {},
     "output_type": "execute_result"
    }
   ],
   "source": [
    "esp_sdsa7.binding_parameter_dict"
   ]
  },
  {
   "cell_type": "markdown",
   "metadata": {},
   "source": [
    "The \"find_deficit_prob\" method builds on the stochastic model to calculate the probabilites of an excessive deficit in each year of the adjustment period. \\\n",
    "We can either call it directly by specifying an adjustment path or call it after we have optimized the path as above."
   ]
  },
  {
   "cell_type": "code",
   "execution_count": 65,
   "metadata": {},
   "outputs": [
    {
     "data": {
      "text/plain": [
       "Text(0.5, 1.0, 'Spain: Probability of deficit during 7-year adjustment')"
      ]
     },
     "execution_count": 65,
     "metadata": {},
     "output_type": "execute_result"
    },
    {
     "data": {
      "image/png": "[encoded data removed]",
      "text/plain": [
       "<Figure size 640x480 with 1 Axes>"
      ]
     },
     "metadata": {},
     "output_type": "display_data"
    }
   ],
   "source": [
    "prob_deficit = esp_sdsa7.find_deficit_prob()\n",
    "plt.bar(np.arange(2025, 2032), prob_deficit)\n",
    "plt.title('Spain: Probability of deficit during 7-year adjustment')"
   ]
  },
  {
   "cell_type": "markdown",
   "metadata": {},
   "source": [
    "### Running the DSA"
   ]
  },
  {
   "cell_type": "markdown",
   "metadata": {},
   "source": [
    "The functions in the functions folder contian preset loops that run the DSA for all countries, save and plot results. Simply run the \"main.ipynb\"."
   ]
  }
 ],
 "metadata": {
  "kernelspec": {
   "display_name": "base",
   "language": "python",
   "name": "python3"
  },
  "language_info": {
   "codemirror_mode": {
    "name": "ipython",
    "version": 3
   },
   "file_extension": ".py",
   "mimetype": "text/x-python",
   "name": "python",
   "nbconvert_exporter": "python",
   "pygments_lexer": "ipython3",
   "version": "3.9.16"
  },
  "orig_nbformat": 4
 },
 "nbformat": 4,
 "nbformat_minor": 2
}
